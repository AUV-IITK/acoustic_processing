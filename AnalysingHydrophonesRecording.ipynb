{
 "cells": [
  {
   "cell_type": "code",
   "execution_count": 47,
   "metadata": {},
   "outputs": [
    {
     "data": {
      "text/plain": [
       "['.ipynb_checkpoints',\n",
       " '0 Degree Horizontal.csv',\n",
       " '0 Degree Vertical.csv',\n",
       " '11 Degree Horizontal.csv',\n",
       " '11 Degree Vertical.csv',\n",
       " 'Recording 1']"
      ]
     },
     "execution_count": 47,
     "metadata": {},
     "output_type": "execute_result"
    }
   ],
   "source": [
    "import pandas as pd\n",
    "import os\n",
    "import numpy as np\n",
    "import matplotlib.pyplot as plt\n",
    "\n",
    "os.listdir(\"/media/ayush/DATA1/Hydrophone Recording/\")"
   ]
  },
  {
   "cell_type": "code",
   "execution_count": 10,
   "metadata": {},
   "outputs": [
    {
     "name": "stdout",
     "output_type": "stream",
     "text": [
      "Shape of the recording CSV: (3000003, 8)\n"
     ]
    },
    {
     "data": {
      "text/html": [
       "<div>\n",
       "<style scoped>\n",
       "    .dataframe tbody tr th:only-of-type {\n",
       "        vertical-align: middle;\n",
       "    }\n",
       "\n",
       "    .dataframe tbody tr th {\n",
       "        vertical-align: top;\n",
       "    }\n",
       "\n",
       "    .dataframe thead th {\n",
       "        text-align: right;\n",
       "    }\n",
       "</style>\n",
       "<table border=\"1\" class=\"dataframe\">\n",
       "  <thead>\n",
       "    <tr style=\"text-align: right;\">\n",
       "      <th></th>\n",
       "      <th>Timestamp</th>\n",
       "      <th>16-05-2019 22:22:42</th>\n",
       "      <th>Timestamp.1</th>\n",
       "      <th>16-05-2019 22:22:42.1</th>\n",
       "      <th>Timestamp.2</th>\n",
       "      <th>16-05-2019 22:22:42.2</th>\n",
       "      <th>Timestamp.3</th>\n",
       "      <th>16-05-2019 22:22:42.3</th>\n",
       "    </tr>\n",
       "  </thead>\n",
       "  <tbody>\n",
       "    <tr>\n",
       "      <th>0</th>\n",
       "      <td>Interval</td>\n",
       "      <td>1E-05</td>\n",
       "      <td>Interval</td>\n",
       "      <td>1E-05</td>\n",
       "      <td>Interval</td>\n",
       "      <td>1E-05</td>\n",
       "      <td>Interval</td>\n",
       "      <td>1E-05</td>\n",
       "    </tr>\n",
       "    <tr>\n",
       "      <th>1</th>\n",
       "      <td>Channel name</td>\n",
       "      <td>Input 0</td>\n",
       "      <td>Channel name</td>\n",
       "      <td>Input 1</td>\n",
       "      <td>Channel name</td>\n",
       "      <td>Input 2</td>\n",
       "      <td>Channel name</td>\n",
       "      <td>Input 3</td>\n",
       "    </tr>\n",
       "    <tr>\n",
       "      <th>2</th>\n",
       "      <td>Unit</td>\n",
       "      <td>V</td>\n",
       "      <td>Unit</td>\n",
       "      <td>V</td>\n",
       "      <td>Unit</td>\n",
       "      <td>V</td>\n",
       "      <td>Unit</td>\n",
       "      <td>V</td>\n",
       "    </tr>\n",
       "    <tr>\n",
       "      <th>3</th>\n",
       "      <td>0</td>\n",
       "      <td>8.9926009830000009</td>\n",
       "      <td>0</td>\n",
       "      <td>2.0555361860000003</td>\n",
       "      <td>0</td>\n",
       "      <td>4.6241990230000001</td>\n",
       "      <td>0</td>\n",
       "      <td>7.1827559870000011</td>\n",
       "    </tr>\n",
       "    <tr>\n",
       "      <th>4</th>\n",
       "      <td>1E-05</td>\n",
       "      <td>8.9922774570000019</td>\n",
       "      <td>1E-05</td>\n",
       "      <td>2.0548890980000003</td>\n",
       "      <td>1E-05</td>\n",
       "      <td>4.6241990230000001</td>\n",
       "      <td>1E-05</td>\n",
       "      <td>7.1830795070000013</td>\n",
       "    </tr>\n",
       "  </tbody>\n",
       "</table>\n",
       "</div>"
      ],
      "text/plain": [
       "      Timestamp 16-05-2019 22:22:42   Timestamp.1 16-05-2019 22:22:42.1  \\\n",
       "0      Interval               1E-05      Interval                 1E-05   \n",
       "1  Channel name             Input 0  Channel name               Input 1   \n",
       "2          Unit                   V          Unit                     V   \n",
       "3             0  8.9926009830000009             0    2.0555361860000003   \n",
       "4         1E-05  8.9922774570000019         1E-05    2.0548890980000003   \n",
       "\n",
       "    Timestamp.2 16-05-2019 22:22:42.2   Timestamp.3 16-05-2019 22:22:42.3  \n",
       "0      Interval                 1E-05      Interval                 1E-05  \n",
       "1  Channel name               Input 2  Channel name               Input 3  \n",
       "2          Unit                     V          Unit                     V  \n",
       "3             0    4.6241990230000001             0    7.1827559870000011  \n",
       "4         1E-05    4.6241990230000001         1E-05    7.1830795070000013  "
      ]
     },
     "execution_count": 10,
     "metadata": {},
     "output_type": "execute_result"
    }
   ],
   "source": [
    "D0H_df = pd.read_csv(\"/media/ayush/DATA1/Hydrophone Recording/0 Degree Horizontal.csv\")\n",
    "print(\"Shape of the recording CSV: \" + str(D0H_df.shape))\n",
    "D0H_df.head()"
   ]
  },
  {
   "cell_type": "code",
   "execution_count": 52,
   "metadata": {},
   "outputs": [
    {
     "name": "stdout",
     "output_type": "stream",
     "text": [
      "Time interval: 1e-05\n",
      "Sampling Rate: 100000\n",
      "Shapes of individual recordings: (3000000, 2)\n"
     ]
    },
    {
     "data": {
      "text/plain": [
       "array([[0.00000000e+00, 8.99260098e+00],\n",
       "       [1.00000000e-05, 8.99227746e+00],\n",
       "       [2.00000000e-05, 8.99227746e+00],\n",
       "       ...,\n",
       "       [2.99999700e+01, 5.80651694e+00],\n",
       "       [2.99999800e+01, 5.80651694e+00],\n",
       "       [2.99999900e+01, 5.80651694e+00]])"
      ]
     },
     "execution_count": 52,
     "metadata": {},
     "output_type": "execute_result"
    }
   ],
   "source": [
    "first_channel_rec = D0H_df[['Timestamp','16-05-2019 22:22:42']]\n",
    "second_channel_rec = D0H_df[['Timestamp.1','16-05-2019 22:22:42.1']]\n",
    "third_channel_rec = D0H_df[['Timestamp.2','16-05-2019 22:22:42.2']]\n",
    "fourth_channel_rec = D0H_df[['Timestamp.3','16-05-2019 22:22:42.3']]\n",
    "\n",
    "time_interval = float(first_channel_rec.iloc[0,1])\n",
    "sampling_rate = round(1/time_interval)\n",
    "print(\"Time interval: \" + str(time_interval))\n",
    "print(\"Sampling Rate: \" + str(sampling_rate))\n",
    "\n",
    "#Dropping the first two rows and converting to numpy\n",
    "first_channel_rec = first_channel_rec.iloc[3:].to_numpy().astype(float)\n",
    "second_channel_rec = second_channel_rec.iloc[3:].to_numpy().astype(float)\n",
    "third_channel_rec = third_channel_rec.iloc[3:].to_numpy().astype(float)\n",
    "fourth_channel_rec = fourth_channel_rec.iloc[3:].to_numpy().astype(float)\n",
    "print(\"Shapes of individual recordings: \" +  str(np.shape(first_channel_rec)))\n",
    "\n",
    "first_channel_rec"
   ]
  },
  {
   "cell_type": "code",
   "execution_count": 59,
   "metadata": {},
   "outputs": [],
   "source": [
    "def plot_graph(data):\n",
    "    fig = plt.figure()\n",
    "    fig.set_size_inches(18.5, 10.5)\n",
    "    plt.plot(data[:,0], data[:,1])"
   ]
  },
  {
   "cell_type": "code",
   "execution_count": null,
   "metadata": {},
   "outputs": [],
   "source": [
    "plot_graph(first_channel_rec)"
   ]
  },
  {
   "cell_type": "code",
   "execution_count": null,
   "metadata": {},
   "outputs": [],
   "source": [
    "plot_graph(second_channel_rec)"
   ]
  },
  {
   "cell_type": "code",
   "execution_count": null,
   "metadata": {},
   "outputs": [],
   "source": [
    "plot_graph(third_channel_rec)"
   ]
  },
  {
   "cell_type": "code",
   "execution_count": null,
   "metadata": {},
   "outputs": [],
   "source": [
    "plot_graph(fourth_channel_rec)"
   ]
  }
 ],
 "metadata": {
  "kernelspec": {
   "display_name": "Python 3",
   "language": "python",
   "name": "python3"
  },
  "language_info": {
   "codemirror_mode": {
    "name": "ipython",
    "version": 3
   },
   "file_extension": ".py",
   "mimetype": "text/x-python",
   "name": "python",
   "nbconvert_exporter": "python",
   "pygments_lexer": "ipython3",
   "version": "3.5.2"
  }
 },
 "nbformat": 4,
 "nbformat_minor": 2
}
