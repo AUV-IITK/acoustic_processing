{
 "cells": [
  {
   "cell_type": "code",
   "execution_count": 65,
   "metadata": {},
   "outputs": [
    {
     "data": {
      "text/plain": [
       "['.ipynb_checkpoints',\n",
       " '0 Degree Horizontal.csv',\n",
       " '0 Degree Vertical.csv',\n",
       " '11 Degree Horizontal.csv',\n",
       " '11 Degree Vertical.csv',\n",
       " '30_5_19.csv',\n",
       " '45 Degree Horizontal.csv',\n",
       " '45 Degree Vertical.csv',\n",
       " 'actual.csv',\n",
       " 'actual_read.csv',\n",
       " 'Recording 1',\n",
       " 'recordings']"
      ]
     },
     "execution_count": 65,
     "metadata": {},
     "output_type": "execute_result"
    }
   ],
   "source": [
    "import pandas as pd\n",
    "import os\n",
    "import numpy as np\n",
    "import pydsm\n",
    "import math\n",
    "import matplotlib\n",
    "import scipy\n",
    "matplotlib.use('nbagg')\n",
    "import matplotlib.pyplot as plt\n",
    "\n",
    "SAMPLING_RATE = 1e5\n",
    "os.listdir(\"/media/ayush/DATA1/Hydrophone Recording/\")"
   ]
  },
  {
   "cell_type": "code",
   "execution_count": null,
   "metadata": {
    "scrolled": true
   },
   "outputs": [],
   "source": [
    "D0H_df = pd.read_csv(\"/media/ayush/DATA1/Hydrophone Recording/actual.csv\")\n",
    "print(\"Shape of the recording CSV: \" + str(D0H_df.shape))\n",
    "D0H_df.head()"
   ]
  },
  {
   "cell_type": "code",
   "execution_count": null,
   "metadata": {},
   "outputs": [],
   "source": [
    "first_channel_rec = D0H_df[['Timestamp','13-06-19 11:58:37 PM']]\n",
    "second_channel_rec = D0H_df[['Timestamp.1','13-06-19 11:58:37 PM.1']]\n",
    "third_channel_rec = D0H_df[['Timestamp.2','13-06-19 11:58:37 PM.2']]\n",
    "fourth_channel_rec = D0H_df[['Timestamp.3','13-06-19 11:58:37 PM.3']]\n",
    "\n",
    "time_interval = float(first_channel_rec.iloc[0,1])\n",
    "sampling_rate = round(1/time_interval)\n",
    "print(\"Time interval: \" + str(time_interval))\n",
    "print(\"Sampling Rate: \" + str(sampling_rate))\n",
    "\n",
    "#Dropping the first two rows and converting to numpy\n",
    "first_channel_rec = first_channel_rec.iloc[3:].to_numpy().astype(float)\n",
    "second_channel_rec = second_channel_rec.iloc[3:].to_numpy().astype(float)\n",
    "third_channel_rec = third_channel_rec.iloc[3:].to_numpy().astype(float)\n",
    "fourth_channel_rec = fourth_channel_rec.iloc[3:].to_numpy().astype(float)\n",
    "print(\"Shapes of individual recordings: \" +  str(np.shape(first_channel_rec)))\n",
    "\n",
    "first_channel_rec"
   ]
  },
  {
   "cell_type": "code",
   "execution_count": null,
   "metadata": {},
   "outputs": [],
   "source": [
    "def plot_graph(data):\n",
    "    fig = plt.figure()\n",
    "    fig.set_size_inches(18.5, 10.5)\n",
    "    plt.plot(data[:,0], data[:,1])\n",
    "    #plt.plot(data[24000:30000,0], data[24000:30000,1])"
   ]
  },
  {
   "cell_type": "code",
   "execution_count": null,
   "metadata": {
    "scrolled": true
   },
   "outputs": [],
   "source": [
    "plot_graph(first_channel_rec[:,:])\n",
    "first_channel_rec_cleaned = first_channel_rec[200000:300000,:]\n",
    "second_channel_rec_cleaned = second_channel_rec[200000:300000,:]\n",
    "third_channel_rec_cleaned = third_channel_rec[200000:300000,:]\n",
    "fourth_channel_rec_cleaned = fourth_channel_rec[200000:300000,:]\n",
    "\n",
    "np.shape(first_channel_rec_cleaned)"
   ]
  },
  {
   "cell_type": "code",
   "execution_count": null,
   "metadata": {},
   "outputs": [],
   "source": [
    "plot_graph(second_channel_rec)"
   ]
  },
  {
   "cell_type": "code",
   "execution_count": null,
   "metadata": {},
   "outputs": [],
   "source": [
    "plot_graph(third_channel_rec)"
   ]
  },
  {
   "cell_type": "code",
   "execution_count": null,
   "metadata": {},
   "outputs": [],
   "source": [
    "plot_graph(fourth_channel_rec)"
   ]
  },
  {
   "cell_type": "code",
   "execution_count": 197,
   "metadata": {},
   "outputs": [
    {
     "name": "stdout",
     "output_type": "stream",
     "text": [
      "[]\n"
     ]
    }
   ],
   "source": [
    "data = first_channel_rec_cleaned[:,1]\n",
    "\n",
    "peaks = []\n",
    "while(i<len(data)):\n",
    "        sum += abs(data[i])\n",
    "        #print(sum)\n",
    "        average = sum/(i+1)\n",
    "        if(data[i] > 5*average):\n",
    "            peak_i = i\n",
    "            print(average)\n",
    "            i+=10000\n",
    "        i+=1\n",
    "        peaks.append(peak_i)\n",
    "\n",
    "print(peaks)\n",
    "\n",
    "\n",
    "\n",
    "def fftplot(data):\n",
    "    i = 0\n",
    "    sum = data[i]\n",
    "    average = data[i]\n",
    "    peak_i = 0\n",
    "    while(i<len(data)):\n",
    "        sum += abs(data[i])\n",
    "        #print(sum)\n",
    "        average = sum/(i+1)\n",
    "        if(data[i] > 5*average):\n",
    "            peak_i = i\n",
    "            print(average)\n",
    "            break\n",
    "        i+=1\n",
    "    print(peak_i)\n",
    "\n",
    "    sample_length = 1024\n",
    "\n",
    "    fig = plt.figure()\n",
    "    fig.set_size_inches(18.5, 10.5)\n",
    "    plt.plot(data[peak_i:peak_i+sample_length])\n",
    "    #plt.plot(data[peak_i:])\n",
    "    plt.show()\n",
    "\n",
    "    arr = data[peak_i:peak_i+sample_length]\n",
    "    sp = np.fft.fft(arr)\n",
    "    freq = np.fft.fftfreq(arr.shape[-1], d=1e-5)\n",
    "    fig = plt.figure()\n",
    "    fig.set_size_inches(18.5, 10.5)\n",
    "    plt.plot(freq, sp.real, freq, sp.imag)\n",
    "\n",
    "    amplitude = []\n",
    "    i=0\n",
    "    while(i<sample_length):\n",
    "        amplitude.append((sp[i].imag**2+sp[i].real**2)//2)\n",
    "        i+=1\n",
    "        \n",
    "    plt.show()\n",
    "    #print(sp)\n",
    "    #print(freq)\n",
    "    print(amplitude)\n",
    "    fig = plt.figure()\n",
    "    fig.set_size_inches(18.5, 10.5)\n",
    "    plt.plot(amplitude)\n",
    "    plt.show()\n",
    "    print(\"Shapes of sp: \" + str(np.shape(sp)) + \", freq:\" + str(np.shape(freq)))\n",
    "\n",
    "    pinger_freq = 30e3\n",
    "    data_point = int(pinger_freq/(freq[1]-freq[0])) + 1\n",
    "    #plt.plot(data[peak_i:peak_i+128])\n",
    "    print(\"The information about \" + str(pinger_freq) + \" is the data_point: \" + str(data_point) + \" at freq: \" + str(freq[data_point]))\n",
    "    data_pinger_freq = sp[data_point]\n",
    "    print(\"The fft data at the data_point is: \" + str(data_pinger_freq))\n",
    "    phase_info = math.atan(sp[data_point].imag/sp[data_point].real)/math.pi*180\n",
    "    print(\"The phase at the values given is: \" + str(phase_info))\n",
    "    \n",
    "    return phase_info, arr, sp\n",
    "    \n"
   ]
  },
  {
   "cell_type": "code",
   "execution_count": null,
   "metadata": {},
   "outputs": [],
   "source": []
  },
  {
   "cell_type": "code",
   "execution_count": null,
   "metadata": {},
   "outputs": [],
   "source": [
    "p1,sign1, sp1 = fftplot(first_channel_rec_cleaned[:,1])"
   ]
  },
  {
   "cell_type": "code",
   "execution_count": null,
   "metadata": {},
   "outputs": [],
   "source": [
    "p2,sign2, sp2 = fftplot(second_channel_rec_cleaned[:,1])"
   ]
  },
  {
   "cell_type": "code",
   "execution_count": null,
   "metadata": {
    "scrolled": false
   },
   "outputs": [],
   "source": [
    "p3,sign3, sp3 = fftplot(third_channel_rec_cleaned[:,1])"
   ]
  },
  {
   "cell_type": "code",
   "execution_count": null,
   "metadata": {
    "scrolled": false
   },
   "outputs": [],
   "source": [
    "p4,sign4, sp4 = fftplot(fourth_channel_rec_cleaned[:,1])"
   ]
  },
  {
   "cell_type": "code",
   "execution_count": null,
   "metadata": {},
   "outputs": [],
   "source": [
    "def correlate(data1, data2):\n",
    "    np.pad(sign1, (0, len(data1)), 'constant')\n",
    "    np.pad(sign2, (0, len(data2)), 'constant')\n",
    "\n",
    "    correlation = np.fft.ifft(np.fft.fft(data1) * np.fft.fft(data2))\n",
    "    fig = plt.figure()\n",
    "    fig.set_size_inches(18.5, 10.5)\n",
    "    t=np.linspace(0,(len(correlation)),len(correlation))\n",
    "    plt.subplot(3,1,3)\n",
    "    plt.plot(t,abs(correlation))\n",
    "    plt.xlabel(\"Time\")\n",
    "    plt.ylabel(\"Correlation\")\n",
    "    plt.show()\n",
    "    #plt.plot(correlation.real)\n",
    "    #plt.plot(correlation.imag)\n",
    "\n",
    "    time_shift = np.argmax(abs(correlation))\n",
    "    print(time_shift)\n",
    "    plt.show()"
   ]
  },
  {
   "cell_type": "code",
   "execution_count": null,
   "metadata": {},
   "outputs": [],
   "source": [
    "correlate(sign1, sign2)\n",
    "correlate(sign1, sign3)\n",
    "correlate(sign1, sign4)\n",
    "correlate(sign2, sign3)\n",
    "correlate(sign2, sign4)\n",
    "correlate(sign3, sign4)"
   ]
  },
  {
   "cell_type": "code",
   "execution_count": null,
   "metadata": {},
   "outputs": [],
   "source": [
    "heading = math.atan((p1-p2)/(p3-p2))*180/math.pi\n",
    "print(\"The heading calculated is: \" + str(heading))"
   ]
  },
  {
   "cell_type": "code",
   "execution_count": null,
   "metadata": {},
   "outputs": [],
   "source": []
  },
  {
   "cell_type": "code",
   "execution_count": null,
   "metadata": {},
   "outputs": [],
   "source": [
    "sp = np.fft.fft(first_channel_rec_cleaned[:,1])\n",
    "freq = np.fft.fftfreq(first_channel_rec_cleaned[:,1].shape[-1], d=1e-5)\n",
    "fig = plt.figure()\n",
    "fig.set_size_inches(18.5, 10.5)\n",
    "plt.plot(freq, sp.real, freq, sp.imag)\n",
    "\n",
    "plt.show()\n",
    "print(sp)\n",
    "print(freq)\n",
    "print(\"Shapes of sp: \" + str(np.shape(sp)) + \", freq:\" + str(np.shape(freq)))"
   ]
  },
  {
   "cell_type": "code",
   "execution_count": 191,
   "metadata": {},
   "outputs": [
    {
     "name": "stdout",
     "output_type": "stream",
     "text": [
      "Shape obtained from MUSIC: (32400, 3)\n",
      "[24, -123, 4.18143227256743]\n",
      "Highest Value in power spectrum: 4.18143227256743\n",
      "Azimuth: 24, altitude: -123\n"
     ]
    }
   ],
   "source": [
    "def convert_complex(rads):\n",
    "    return math.cos(rads) + math.sin(rads)*1j\n",
    "\n",
    "def svm_3d_44_coherent(theta,phi,w_freq,gamma,velocity,d,D):\n",
    "    wavelength = velocity / w_freq;\n",
    "    dist_d1 =  0;\n",
    "    dist_d2 = d*math.cos(theta)*math.cos(phi);\n",
    "    dist_d3 = D*math.sin(theta)*math.cos(phi);\n",
    "    dist_d4 = D*math.sin(theta)*math.cos(phi) + d*math.cos(theta)*math.cos(phi);\n",
    "    phase_d1 = 2*math.pi*dist_d1/wavelength ;\n",
    "    phase_d2 = 2*math.pi*dist_d2/wavelength ;\n",
    "    phase_d3 = 2*math.pi*dist_d3/wavelength ;\n",
    "    phase_d4 = 2*math.pi*dist_d4/wavelength ;\n",
    "    svm = np.matrix.getH(np.matrix([convert_complex(phase_d4),convert_complex(phase_d3),convert_complex(phase_d2),convert_complex(phase_d1)]))\n",
    "    #print(\"Shape of svm: \" + str(np.shape(svm)))\n",
    "    gamma_d1 = gamma * dist_d1;\n",
    "    gamma_d2 = gamma * dist_d2;\n",
    "    gamma_d3 = gamma * dist_d3;\n",
    "    gamma_d4 = gamma * dist_d4;\n",
    "    gamma_vector = np.matrix.getH(np.matrix([convert_complex(gamma_d4),convert_complex(gamma_d3),convert_complex(gamma_d2),convert_complex(gamma_d1)]))\n",
    "    #print(gamma_vector)\n",
    "    #print(\"Shape of gamma: \" + str(np.shape(gamma_vector)))\n",
    "    svm_ans = (np.multiply(gamma_vector,svm))\n",
    "    #print(\"Shape of steering_vector: \" + str(np.shape(svm_ans)))\n",
    "    return svm_ans\n",
    "\n",
    "def music(data1, data2, data3, data4):\n",
    "    input_data = np.column_stack((data1, data2, data3, data4))\n",
    "    hermittian_data = np.matrix.getH(input_data)\n",
    "    #print(\"Hermittian Data: -------------------------------\")\n",
    "    #print(hermittian_data)\n",
    "    Rxx = np.matmul(hermittian_data, input_data)/SAMPLING_RATE\n",
    "    #print(\"\\n\\nCovariance matrix --------------------------\")\n",
    "    #print(Rxx)\n",
    "    #print(\"Shape of Rxx: \" + str(np.shape(Rxx)))\n",
    "    #---- calculated the covariance matrix here ------\n",
    "    \n",
    "    diagonal_eigenvalues, column_eigenvectors  = scipy.linalg.eig(Rxx)\n",
    "    #print(\"\\n\\nEigenvalues --------------------------\")\n",
    "    #print(diagonal_eigenvalues)\n",
    "    #print(\"\\n\\nEigenvectors --------------------------\")\n",
    "    #print(column_eigenvectors)\n",
    "    idx = diagonal_eigenvalues.argsort()[::-1]\n",
    "    diagonal_eigenvalues = diagonal_eigenvalues[idx]# Vector of sorted eigenvalues\n",
    "    column_eigenvectors = column_eigenvectors[:, idx]# Sort eigenvectors accordingly\n",
    "    column_eigenvectors_noise = column_eigenvectors[:, 5:len(column_eigenvectors)]\n",
    "    #print(\"\\n\\nEigenvalues --------------------------\")\n",
    "    #print(diagonal_eigenvalues)\n",
    "    #print(\"\\n\\nEigenvectors --------------------------\")\n",
    "    #print(column_eigenvectors)\n",
    "    \n",
    "    #------sorted the column vectors according to the eigenvalues\n",
    "    V = column_eigenvectors\n",
    "    final_stats = []\n",
    "    for azimuth in range(0,180):\n",
    "        for altitude in range(-180,0):\n",
    "            #print(\"Currently in azimuth:\" + str(azimuth) + \", altitude: \" + str(altitude))\n",
    "            svm_2d_a = svm_3d_44_coherent(azimuth,altitude,3e4,0.02,1500,1.7,2);\n",
    "            svm_2d_b = np.matrix.getH(svm_2d_a);\n",
    "            #print(\"\\n\\nSteering Vectos --------------------------\")\n",
    "            #print(np.shape(svm_2d_b))\n",
    "            num = abs(np.matmul(svm_2d_b,svm_2d_a))\n",
    "            vector = np.array(V[:,1])\n",
    "            #print(\"\\n\\nVector extracted --------------------------\")\n",
    "            #print(vector)\n",
    "            #print(np.shape(vector))\n",
    "            #print(np.shape(np.matmul(svm_2d_b,np.array(V[:,1]))))\n",
    "            den = (abs(np.matmul(svm_2d_b,np.array(V[:,1])))**2 + (abs(np.matmul(svm_2d_b,np.array(V[:,2]))))**2)\n",
    "            #print(\"\\n\\nNumerator --------------------------\")\n",
    "            #print(num)\n",
    "            #print(\"\\n\\nDenominator --------------------------\")\n",
    "            #print(den)\n",
    "                                                                                \n",
    "            ans =  (float)(num/den); \n",
    "            final_stats.append([azimuth, altitude, ans])\n",
    "            \n",
    "    return final_stats\n",
    "\n",
    "def summarise(final_stats):\n",
    "    #print(result_from_music)\n",
    "    print(\"Shape obtained from MUSIC: \" + str(np.shape(result_from_music)))\n",
    "    zmax = np.max(result_from_music,axis=0)[2]\n",
    "    location_zmax = (int)(np.where(result_from_music == zmax)[0])\n",
    "    #print(location_zmax)\n",
    "    ans_row = result_from_music[location_zmax]\n",
    "    print(ans_row)\n",
    "    print(\"Highest Value in power spectrum: \" + str(zmax))\n",
    "    print(\"Azimuth: \" + str(ans_row[0]) + \", altitude: \" + str(ans_row[1]))\n",
    "\n",
    "\n",
    "p1_radians = p1*180/3.14\n",
    "p2_radians = p2*180/3.14\n",
    "p3_radians = p3*180/3.14\n",
    "p4_radians = p4*180/3.14\n",
    "complex_sign1 = sign1*(math.cos(p1_radians) + math.sin(p1_radians)*1j)     \n",
    "complex_sign2 = sign2*(math.cos(p2_radians) + math.sin(p2_radians)*1j)     \n",
    "complex_sign3 = sign3*(math.cos(p3_radians) + math.sin(p3_radians)*1j)  \n",
    "complex_sign4 = sign4*(math.cos(p4_radians) + math.sin(p4_radians)*1j)     \n",
    "result_from_music = music(complex_sign1, complex_sign2, complex_sign3, complex_sign4)\n",
    "summarise(result_from_music)\n",
    "\n"
   ]
  },
  {
   "cell_type": "code",
   "execution_count": 189,
   "metadata": {},
   "outputs": [
    {
     "name": "stdout",
     "output_type": "stream",
     "text": [
      "Shape obtained from MUSIC: (32400, 3)\n",
      "[24, -123, 4.18143227256743]\n",
      "Highest Value in power spectrum: 4.18143227256743\n",
      "Azimuth: 24, altitude: -123\n"
     ]
    }
   ],
   "source": []
  },
  {
   "cell_type": "code",
   "execution_count": null,
   "metadata": {},
   "outputs": [],
   "source": [
    "heading = math.atan((first_phase - third_phase)/(second_phase - third_phase))*180/math.pi\n",
    "print(\"The heading calculated is: \" + str(heading))\n",
    "\n",
    "heading = math.atan((first_phase - second_phase)/(third_phase - second_phase))*180/math.pi\n",
    "print(\"The heading calculated is: \" + str(heading))\n",
    "\n",
    "heading = math.atan((first_phase - third_phase)/(first_phase - second_phase))*180/math.pi\n",
    "print(\"The heading calculated is: \" + str(heading))"
   ]
  },
  {
   "cell_type": "code",
   "execution_count": null,
   "metadata": {},
   "outputs": [],
   "source": [
    "def cross_correlation_using_fft(x, y):\n",
    "    f1 = np.fft.fft(x)\n",
    "    \n",
    "    # flip the signal of y\n",
    "    f2 = np.fft.fft(np.flipud(y))\n",
    "    cc = np.real(np.fft.ifft(f1 * f2))\n",
    "\n",
    "    return np.fft.fftshift(cc)\n",
    " \n",
    "# shift &lt; 0 means that y starts 'shift' time steps before x \n",
    "# shift &gt; 0 means that y starts 'shift' time steps after x\n",
    "def compute_shift(x, y):\n",
    "    # we make sure the length of the two signals are the same\n",
    "    assert len(x) == len(y)\n",
    "    c = cross_correlation_using_fft(x, y)\n",
    "    assert len(c) == len(x)\n",
    "    zero_index = int(len(x) / 2) - 1\n",
    "    shift = zero_index - np.argmax(c)\n",
    "    return shift\n",
    "\n",
    "fig = plt.figure()\n",
    "fig.set_size_inches(18.5, 15.5)\n",
    "plt.plot(first_channel_rec[24000:30000,:])\n",
    "plt.plot(second_channel_rec[24000:30000,:])\n",
    "plt.plot(third_channel_rec[24000:30000,:])\n",
    "plt.plot(fourth_channel_rec[24000:30000,:])\n",
    "\n",
    "compute_shift(first_channel_rec[24000:30000,:], second_channel_rec[24000:30000,:])"
   ]
  },
  {
   "cell_type": "code",
   "execution_count": null,
   "metadata": {},
   "outputs": [],
   "source": [
    "pinger_freq = 20e3\n",
    "\n",
    "def give_phase_in_degrees(data, i, j):\n",
    "    data_cleaned = data[i:j,:]\n",
    "    np.shape(data_cleaned)\n",
    "    sp = np.fft.fft(data_cleaned[:,1])\n",
    "    freq = np.fft.fftfreq(data_cleaned[:,1].shape[-1], d=1e-5)\n",
    "    data_point = int(pinger_freq/(10e5/(j-i+1)))\n",
    "    data_pinger_freq = freq[data_point]\n",
    "    phase_info = math.atan(sp[data_point].imag/sp[data_point].real)/math.pi*180\n",
    "    print(\"Array size: {}, phase_info: {}, data_point: {}\".format(j-i, phase_info, data_point))\n",
    "    return phase_info, sp, freq\n",
    "\n",
    "first_phase, first_sp, first_freq = give_phase_in_degrees(first_channel_rec, 24000, 30000)\n",
    "second_phase, second_sp, second_freq = give_phase_in_degrees(second_channel_rec, 24000, 30000)\n",
    "third_phase, third_sp, third_freq = give_phase_in_degrees(third_channel_rec, 24000, 30000)\n",
    "\n",
    "print(\"Shape of fft array: {}\".format(np.shape(first_sp)))\n",
    "\n",
    "fig = plt.figure()\n",
    "fig.set_size_inches(18.5, 15.5)\n",
    "#plt.plot(first_freq)\n",
    "plt.plot(first_sp.real)\n",
    "plt.plot(first_sp.imag)\n",
    "#plt.plot(first_freq, first_sp.real)\n",
    "#plt.plot(first_freq, first_sp.imag)\n",
    "plt.plot((first_sp.real**2 + first_sp.imag**2)//2)\n",
    "\n",
    "fig = plt.figure()\n",
    "fig.set_size_inches(18.5, 15.5)\n",
    "plt.plot(second_sp)\n",
    "plt.plot(third_sp)\n"
   ]
  },
  {
   "cell_type": "code",
   "execution_count": null,
   "metadata": {},
   "outputs": [],
   "source": [
    "pinger_freq = 20e3\n",
    "\n",
    "def give_phase_in_degrees(data, i, j):\n",
    "    data_cleaned = data[i:j,:]\n",
    "    np.shape(data_cleaned)\n",
    "    sp = np.fft.fft(data_cleaned[:,1])\n",
    "    freq = np.fft.fftfreq(data_cleaned[:,1].shape[-1], d=1e-5)\n",
    "    data_point = int(pinger_freq/(10e5/(j-i+1)))\n",
    "    data_pinger_freq = freq[data_point]\n",
    "    phase_info = math.atan(sp[data_point].imag/sp[data_point].real)/math.pi*180\n",
    "    return phase_info, sp\n",
    "\n",
    "first_phase, first_sp = give_phase_in_degrees(first_channel_rec, 400000, 600000)\n",
    "second_phase, second_sp = give_phase_in_degrees(second_channel_rec, 400000, 600000)\n",
    "third_phase, third_sp = give_phase_in_degrees(third_channel_rec, 400000, 600000)\n",
    "\n",
    "fig = plt.figure()\n",
    "fig.set_size_inches(18.5, 15.5)\n",
    "plt.plot(first_sp)\n",
    "plt.plot(second_sp)\n",
    "plt.plot(third_sp)\n"
   ]
  }
 ],
 "metadata": {
  "kernelspec": {
   "display_name": "Python 3",
   "language": "python",
   "name": "python3"
  },
  "language_info": {
   "codemirror_mode": {
    "name": "ipython",
    "version": 3
   },
   "file_extension": ".py",
   "mimetype": "text/x-python",
   "name": "python",
   "nbconvert_exporter": "python",
   "pygments_lexer": "ipython3",
   "version": "3.5.2"
  }
 },
 "nbformat": 4,
 "nbformat_minor": 2
}
